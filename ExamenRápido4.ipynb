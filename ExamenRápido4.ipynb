{
  "nbformat": 4,
  "nbformat_minor": 0,
  "metadata": {
    "colab": {
      "provenance": []
    },
    "kernelspec": {
      "name": "python3",
      "display_name": "Python 3"
    },
    "language_info": {
      "name": "python"
    }
  },
  "cells": [
    {
      "cell_type": "code",
      "source": [
        "import numpy as np\n",
        "import random"
      ],
      "metadata": {
        "id": "UHfTJIFoHH1t"
      },
      "execution_count": 13,
      "outputs": []
    },
    {
      "cell_type": "code",
      "source": [
        "url = 'https://github.com/mcd-unison/aaa-curso/raw/main/ejemplos/carretas.txt'\n",
        "datos = np.loadtxt(url, comments='%', delimiter=',')\n",
        "\n",
        "x, y = datos[:,0:1], datos[:,1]\n",
        "\n",
        "M, n = x.shape\n",
        "\n",
        "w = np.zeros([n])\n",
        "b = 1"
      ],
      "metadata": {
        "id": "pJfmT5WoIR1G"
      },
      "execution_count": 14,
      "outputs": []
    },
    {
      "cell_type": "code",
      "source": [
        "rand_list = []\n",
        "for i in range(M):\n",
        "  rand_list.append(random.randint(-3,24) + random.random())\n",
        "\n",
        "hat_y = np.array(rand_list)"
      ],
      "metadata": {
        "id": "dOQU30dRLcSl"
      },
      "execution_count": 16,
      "outputs": []
    },
    {
      "cell_type": "code",
      "execution_count": 17,
      "metadata": {
        "id": "MnNf5DPPGzGb"
      },
      "outputs": [],
      "source": [
        "alpha = 0.1\n",
        "delta_w = np.sum(x * (y - hat_y))\n",
        "delta_b = np.sum(y - hat_y)"
      ]
    },
    {
      "cell_type": "code",
      "source": [
        "w = w - alpha * delta_w\n",
        "b = b - alpha * delta_b"
      ],
      "metadata": {
        "id": "-wRVWv9NHc7Y"
      },
      "execution_count": 18,
      "outputs": []
    },
    {
      "cell_type": "code",
      "source": [
        "print(\"The value of w is \" + str(w))\n",
        "print(\"The value of b is \" + str(b))"
      ],
      "metadata": {
        "colab": {
          "base_uri": "https://localhost:8080/"
        },
        "id": "Chu_9aInH0Td",
        "outputId": "d1a16af4-4022-4834-e867-e23c0dc756ad"
      },
      "execution_count": 20,
      "outputs": [
        {
          "output_type": "stream",
          "name": "stdout",
          "text": [
            "The value of w is [28008.21832006]\n",
            "The value of b is 36.38622500104522\n"
          ]
        }
      ]
    }
  ]
}